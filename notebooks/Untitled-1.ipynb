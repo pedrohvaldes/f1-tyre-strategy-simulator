{
 "cells": [
  {
   "cell_type": "code",
   "execution_count": null,
   "id": "4d4957ba",
   "metadata": {},
   "outputs": [],
   "source": [
    "import sys, pkgutil\n",
    "print(sys.executable)\n",
    "print(sys.version)\n",
    "for p in [\"fastf1\",\"pandas\",\"numpy\",\"pyarrow\",\"matplotlib\",\"seaborn\"]:\n",
    "    print(f\"{p}: \", \"ok\" if pkgutil.find_loader(p) else \"MISSING\")\n"
   ]
  },
  {
   "cell_type": "code",
   "execution_count": 5,
   "id": "124e37c4",
   "metadata": {},
   "outputs": [],
   "source": [
    "from pathlib import Path\n",
    "import pandas as pd\n",
    "import numpy as np\n",
    "import fastf1\n",
    "\n",
    "# diretórios do projeto (ajuste se seu notebook estiver dentro de /notebooks)\n",
    "PROJ = Path.cwd().resolve().parent\n",
    "DATA_DIR = PROJ / \"data\"\n",
    "DATA_DIR.mkdir(exist_ok=True)\n",
    "(DATA_DIR/\"interim\").mkdir(parents=True, exist_ok=True)\n",
    "\n",
    "CACHE_DIR = PROJ / \"fastf1_cache\"\n",
    "CACHE_DIR.mkdir(exist_ok=True)\n",
    "fastf1.Cache.enable_cache(str(CACHE_DIR))\n",
    "\n",
    "YEAR = 2022\n",
    "EVENT = \"Bahrain Grand Prix\"   # nome oficial no FastF1\n",
    "SESSION = \"R\"                   # Race\n"
   ]
  }
 ],
 "metadata": {
  "kernelspec": {
   "display_name": ".venv",
   "language": "python",
   "name": "python3"
  },
  "language_info": {
   "codemirror_mode": {
    "name": "ipython",
    "version": 3
   },
   "file_extension": ".py",
   "mimetype": "text/x-python",
   "name": "python",
   "nbconvert_exporter": "python",
   "pygments_lexer": "ipython3",
   "version": "3.13.7"
  }
 },
 "nbformat": 4,
 "nbformat_minor": 5
}
